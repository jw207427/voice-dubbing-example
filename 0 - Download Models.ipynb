{
 "cells": [
  {
   "cell_type": "code",
   "execution_count": 1,
   "metadata": {},
   "outputs": [],
   "source": [
    "### Download Models"
   ]
  },
  {
   "cell_type": "code",
   "execution_count": 20,
   "metadata": {},
   "outputs": [],
   "source": [
    "MODELS = {\n",
    "    'autoregressive.pth': 'https://huggingface.co/jbetker/tortoise-tts-v2/resolve/main/.models/autoregressive.pth',\n",
    "    'clvp2.pth': 'https://huggingface.co/jbetker/tortoise-tts-v2/resolve/main/.models/clvp2.pth',\n",
    "    'diffusion_decoder.pth': 'https://huggingface.co/jbetker/tortoise-tts-v2/resolve/main/.models/diffusion_decoder.pth',\n",
    "    'vocoder.pth': 'https://huggingface.co/jbetker/tortoise-tts-v2/resolve/main/.models/vocoder.pth',\n",
    "}"
   ]
  },
  {
   "cell_type": "code",
   "execution_count": 21,
   "metadata": {},
   "outputs": [
    {
     "data": {
      "text/plain": [
       "dict_keys(['autoregressive.pth', 'clvp2.pth', 'diffusion_decoder.pth', 'vocoder.pth'])"
      ]
     },
     "execution_count": 21,
     "metadata": {},
     "output_type": "execute_result"
    }
   ],
   "source": [
    "MODELS.keys()"
   ]
  },
  {
   "cell_type": "code",
   "execution_count": 23,
   "metadata": {},
   "outputs": [
    {
     "data": {
      "application/vnd.jupyter.widget-view+json": {
       "model_id": "8d994ab3c7154b54ba711fe4c639ad7a",
       "version_major": 2,
       "version_minor": 0
      },
      "text/plain": [
       "autoregressive.pth:   0%|          | 0.00/1.72G [00:00<?, ?B/s]"
      ]
     },
     "metadata": {},
     "output_type": "display_data"
    },
    {
     "data": {
      "application/vnd.jupyter.widget-view+json": {
       "model_id": "c3ece3b4ae64444cba43ac1495d14a8c",
       "version_major": 2,
       "version_minor": 0
      },
      "text/plain": [
       "clvp2.pth:   0%|          | 0.00/976M [00:00<?, ?B/s]"
      ]
     },
     "metadata": {},
     "output_type": "display_data"
    },
    {
     "data": {
      "application/vnd.jupyter.widget-view+json": {
       "model_id": "a277d3dac2e14ca68984182b07cd91eb",
       "version_major": 2,
       "version_minor": 0
      },
      "text/plain": [
       "diffusion_decoder.pth:   0%|          | 0.00/1.17G [00:00<?, ?B/s]"
      ]
     },
     "metadata": {},
     "output_type": "display_data"
    },
    {
     "data": {
      "application/vnd.jupyter.widget-view+json": {
       "model_id": "5864bcc0d73f4eb881ec3a8efe86a7dc",
       "version_major": 2,
       "version_minor": 0
      },
      "text/plain": [
       "vocoder.pth:   0%|          | 0.00/391M [00:00<?, ?B/s]"
      ]
     },
     "metadata": {},
     "output_type": "display_data"
    }
   ],
   "source": [
    "from huggingface_hub import hf_hub_download\n",
    "\n",
    "models_dir = \"model\"\n",
    "\n",
    "for model in MODELS.keys():\n",
    "    model_path = hf_hub_download(repo_id=\"Manmay/tortoise-tts\", filename=model, cache_dir=models_dir, local_dir_use_symlinks=False)"
   ]
  },
  {
   "cell_type": "code",
   "execution_count": 24,
   "metadata": {},
   "outputs": [],
   "source": [
    "!rm -rf `find -type d -name .ipynb_checkpoints`"
   ]
  },
  {
   "cell_type": "code",
   "execution_count": 28,
   "metadata": {},
   "outputs": [
    {
     "name": "stdout",
     "output_type": "stream",
     "text": [
      "./\n",
      "./.locks/\n",
      "./.locks/models--Manmay--tortoise-tts/\n",
      "./.locks/models--Manmay--tortoise-tts/9c6651b9996df6cef6a1fc459738ae207ab60f902ec49b4d0623ca8ab6110d51.lock\n",
      "./.locks/models--Manmay--tortoise-tts/6097e708cf692eb93bd770880660953935e87e8995eb864819bbe51b7d91342c.lock\n",
      "./.locks/models--Manmay--tortoise-tts/ea776fc354eabb70cfae145777153483fad72e3e0c5ea345505ded2231a90ce1.lock\n",
      "./.locks/models--Manmay--tortoise-tts/16e8153e9f8ffb00b116f7f67833df2802fcf81e6bc173acc3b3b4bf9f04189d.lock\n",
      "./models--Manmay--tortoise-tts/\n",
      "./models--Manmay--tortoise-tts/blobs/\n",
      "./models--Manmay--tortoise-tts/snapshots/\n",
      "./models--Manmay--tortoise-tts/snapshots/50672670cecf2265aa61edb4eef5d1a293a8a373/\n",
      "./models--Manmay--tortoise-tts/snapshots/50672670cecf2265aa61edb4eef5d1a293a8a373/autoregressive.pth\n",
      "./models--Manmay--tortoise-tts/snapshots/50672670cecf2265aa61edb4eef5d1a293a8a373/clvp2.pth\n",
      "./models--Manmay--tortoise-tts/snapshots/50672670cecf2265aa61edb4eef5d1a293a8a373/diffusion_decoder.pth\n",
      "./models--Manmay--tortoise-tts/snapshots/50672670cecf2265aa61edb4eef5d1a293a8a373/vocoder.pth\n",
      "./models--Manmay--tortoise-tts/refs/\n",
      "./models--Manmay--tortoise-tts/refs/main\n"
     ]
    }
   ],
   "source": [
    "!cd model &&tar --exclude='models--Manmay--tortoise-tts/blobs/*' -h -cvzf ../model.tar.gz ."
   ]
  },
  {
   "cell_type": "code",
   "execution_count": 29,
   "metadata": {},
   "outputs": [
    {
     "name": "stdout",
     "output_type": "stream",
     "text": [
      "File uploaded successfully to s3://sagemaker-us-east-1-376678947624/tortoise-tts/model/model.tar.gz\n"
     ]
    }
   ],
   "source": [
    "import boto3\n",
    "import sagemaker\n",
    "\n",
    "sess = sagemaker.Session()\n",
    "bucket_name = sess.default_bucket() # Set a default S3 bucket\n",
    "\n",
    "prefix = \"tortoise-tts\"\n",
    "\n",
    "s3 = boto3.client('s3')\n",
    "\n",
    "# Specify the local file path\n",
    "local_file_path = 'model.tar.gz'\n",
    "\n",
    "s3_key = f\"{prefix}/model/model.tar.gz\"  # Example: 'backups/file.tar.gz'\n",
    "\n",
    "# Upload the file to S3\n",
    "try:\n",
    "    s3.upload_file(local_file_path, bucket_name, s3_key)\n",
    "    print(f'File uploaded successfully to s3://{bucket_name}/{s3_key}')\n",
    "except Exception as e:\n",
    "    print(f'Error uploading file: {e}')\n",
    "\n",
    "model_s3 = f\"s3://{bucket_name}/{s3_key}\"\n",
    "\n"
   ]
  },
  {
   "cell_type": "code",
   "execution_count": 30,
   "metadata": {},
   "outputs": [
    {
     "name": "stdout",
     "output_type": "stream",
     "text": [
      "Stored 'bucket_name' (str)\n",
      "Stored 'model_s3' (str)\n",
      "Stored 'prefix' (str)\n"
     ]
    }
   ],
   "source": [
    "%store bucket_name\n",
    "%store model_s3\n",
    "%store prefix"
   ]
  },
  {
   "cell_type": "code",
   "execution_count": 41,
   "metadata": {
    "scrolled": true
   },
   "outputs": [],
   "source": [
    "from sagemaker.jumpstart.utils import get_jumpstart_content_bucket\n",
    "\n",
    "filename = \"sample1.wav\"\n",
    "output = \"samples/swami-interview.wav\"\n",
    "s3_bucket = get_jumpstart_content_bucket()\n",
    "s3_prefix = \"training-datasets/asr_notebook_data\"\n",
    "s3_client = boto3.client(\"s3\")\n",
    "s3_client.download_file(s3_bucket, f\"{s3_prefix}/{filename}\", output)"
   ]
  },
  {
   "cell_type": "code",
   "execution_count": null,
   "metadata": {},
   "outputs": [],
   "source": []
  }
 ],
 "metadata": {
  "kernelspec": {
   "display_name": "Python 3 (ipykernel)",
   "language": "python",
   "name": "python3"
  },
  "language_info": {
   "codemirror_mode": {
    "name": "ipython",
    "version": 3
   },
   "file_extension": ".py",
   "mimetype": "text/x-python",
   "name": "python",
   "nbconvert_exporter": "python",
   "pygments_lexer": "ipython3",
   "version": "3.10.13"
  }
 },
 "nbformat": 4,
 "nbformat_minor": 4
}
