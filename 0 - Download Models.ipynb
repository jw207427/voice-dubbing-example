{
 "cells": [
  {
   "cell_type": "markdown",
   "metadata": {},
   "source": [
    "### > Download Models"
   ]
  },
  {
   "cell_type": "code",
   "execution_count": 1,
   "metadata": {},
   "outputs": [],
   "source": [
    "MODELS = {\n",
    "    'autoregressive.pth': 'https://huggingface.co/jbetker/tortoise-tts-v2/resolve/main/.models/autoregressive.pth',\n",
    "    'clvp2.pth': 'https://huggingface.co/jbetker/tortoise-tts-v2/resolve/main/.models/clvp2.pth',\n",
    "    'diffusion_decoder.pth': 'https://huggingface.co/jbetker/tortoise-tts-v2/resolve/main/.models/diffusion_decoder.pth',\n",
    "    'vocoder.pth': 'https://huggingface.co/jbetker/tortoise-tts-v2/resolve/main/.models/vocoder.pth',\n",
    "}"
   ]
  },
  {
   "cell_type": "code",
   "execution_count": 2,
   "metadata": {},
   "outputs": [],
   "source": [
    "!mkdir -p model"
   ]
  },
  {
   "cell_type": "code",
   "execution_count": 3,
   "metadata": {},
   "outputs": [
    {
     "data": {
      "application/vnd.jupyter.widget-view+json": {
       "model_id": "06dc424638634fe481fe87f6b6806b9f",
       "version_major": 2,
       "version_minor": 0
      },
      "text/plain": [
       "autoregressive.pth:   0%|          | 0.00/1.72G [00:00<?, ?B/s]"
      ]
     },
     "metadata": {},
     "output_type": "display_data"
    },
    {
     "data": {
      "application/vnd.jupyter.widget-view+json": {
       "model_id": "afc4669bc74345fea193a7431555f036",
       "version_major": 2,
       "version_minor": 0
      },
      "text/plain": [
       "clvp2.pth:   0%|          | 0.00/976M [00:00<?, ?B/s]"
      ]
     },
     "metadata": {},
     "output_type": "display_data"
    },
    {
     "data": {
      "application/vnd.jupyter.widget-view+json": {
       "model_id": "4b5bd4de5dfa430b841de4b2ad63c59c",
       "version_major": 2,
       "version_minor": 0
      },
      "text/plain": [
       "diffusion_decoder.pth:   0%|          | 0.00/1.17G [00:00<?, ?B/s]"
      ]
     },
     "metadata": {},
     "output_type": "display_data"
    },
    {
     "data": {
      "application/vnd.jupyter.widget-view+json": {
       "model_id": "d40abf22f72247c192098ed68a250795",
       "version_major": 2,
       "version_minor": 0
      },
      "text/plain": [
       "vocoder.pth:   0%|          | 0.00/391M [00:00<?, ?B/s]"
      ]
     },
     "metadata": {},
     "output_type": "display_data"
    }
   ],
   "source": [
    "from huggingface_hub import hf_hub_download\n",
    "\n",
    "models_dir = \"model\"\n",
    "\n",
    "for model in MODELS.keys():\n",
    "    model_path = hf_hub_download(repo_id=\"Manmay/tortoise-tts\", filename=model, cache_dir=models_dir, local_dir_use_symlinks=False)"
   ]
  },
  {
   "cell_type": "code",
   "execution_count": 4,
   "metadata": {},
   "outputs": [],
   "source": [
    "!rm -rf `find -type d -name .ipynb_checkpoints`"
   ]
  },
  {
   "cell_type": "code",
   "execution_count": 5,
   "metadata": {},
   "outputs": [
    {
     "name": "stdout",
     "output_type": "stream",
     "text": [
      "./\n",
      "./models--Manmay--tortoise-tts/\n",
      "./models--Manmay--tortoise-tts/blobs/\n",
      "./models--Manmay--tortoise-tts/snapshots/\n",
      "./models--Manmay--tortoise-tts/snapshots/50672670cecf2265aa61edb4eef5d1a293a8a373/\n",
      "./models--Manmay--tortoise-tts/snapshots/50672670cecf2265aa61edb4eef5d1a293a8a373/autoregressive.pth\n",
      "./models--Manmay--tortoise-tts/snapshots/50672670cecf2265aa61edb4eef5d1a293a8a373/clvp2.pth\n",
      "./models--Manmay--tortoise-tts/snapshots/50672670cecf2265aa61edb4eef5d1a293a8a373/diffusion_decoder.pth\n",
      "./models--Manmay--tortoise-tts/snapshots/50672670cecf2265aa61edb4eef5d1a293a8a373/vocoder.pth\n",
      "./models--Manmay--tortoise-tts/refs/\n",
      "./models--Manmay--tortoise-tts/refs/main\n",
      "./.locks/\n",
      "./.locks/models--Manmay--tortoise-tts/\n",
      "./.locks/models--Manmay--tortoise-tts/9c6651b9996df6cef6a1fc459738ae207ab60f902ec49b4d0623ca8ab6110d51.lock\n",
      "./.locks/models--Manmay--tortoise-tts/6097e708cf692eb93bd770880660953935e87e8995eb864819bbe51b7d91342c.lock\n",
      "./.locks/models--Manmay--tortoise-tts/ea776fc354eabb70cfae145777153483fad72e3e0c5ea345505ded2231a90ce1.lock\n",
      "./.locks/models--Manmay--tortoise-tts/16e8153e9f8ffb00b116f7f67833df2802fcf81e6bc173acc3b3b4bf9f04189d.lock\n"
     ]
    }
   ],
   "source": [
    "!cd model &&tar --exclude='models--Manmay--tortoise-tts/blobs/*' -h -cvzf ../model.tar.gz ."
   ]
  },
  {
   "cell_type": "markdown",
   "metadata": {},
   "source": [
    "### > This step is required to prevent Tortise TTS module from downloading\n",
    "\n",
    "The way tortoise-tts module is setup, it will always download from huggingface unless a specific folder structure is preserved."
   ]
  },
  {
   "cell_type": "code",
   "execution_count": 6,
   "metadata": {},
   "outputs": [],
   "source": [
    "!rm -rf model"
   ]
  },
  {
   "cell_type": "code",
   "execution_count": 7,
   "metadata": {},
   "outputs": [
    {
     "name": "stdout",
     "output_type": "stream",
     "text": [
      "./\n",
      "./models--Manmay--tortoise-tts/\n",
      "./models--Manmay--tortoise-tts/blobs/\n",
      "./models--Manmay--tortoise-tts/snapshots/\n",
      "./models--Manmay--tortoise-tts/snapshots/50672670cecf2265aa61edb4eef5d1a293a8a373/\n",
      "./models--Manmay--tortoise-tts/snapshots/50672670cecf2265aa61edb4eef5d1a293a8a373/autoregressive.pth\n",
      "./models--Manmay--tortoise-tts/snapshots/50672670cecf2265aa61edb4eef5d1a293a8a373/clvp2.pth\n",
      "./models--Manmay--tortoise-tts/snapshots/50672670cecf2265aa61edb4eef5d1a293a8a373/diffusion_decoder.pth\n",
      "./models--Manmay--tortoise-tts/snapshots/50672670cecf2265aa61edb4eef5d1a293a8a373/vocoder.pth\n",
      "./models--Manmay--tortoise-tts/refs/\n",
      "./models--Manmay--tortoise-tts/refs/main\n",
      "./.locks/\n",
      "./.locks/models--Manmay--tortoise-tts/\n",
      "./.locks/models--Manmay--tortoise-tts/9c6651b9996df6cef6a1fc459738ae207ab60f902ec49b4d0623ca8ab6110d51.lock\n",
      "./.locks/models--Manmay--tortoise-tts/6097e708cf692eb93bd770880660953935e87e8995eb864819bbe51b7d91342c.lock\n",
      "./.locks/models--Manmay--tortoise-tts/ea776fc354eabb70cfae145777153483fad72e3e0c5ea345505ded2231a90ce1.lock\n",
      "./.locks/models--Manmay--tortoise-tts/16e8153e9f8ffb00b116f7f67833df2802fcf81e6bc173acc3b3b4bf9f04189d.lock\n"
     ]
    }
   ],
   "source": [
    "!mkdir -p model\n",
    "!tar -xvf model.tar.gz -C model"
   ]
  },
  {
   "cell_type": "code",
   "execution_count": 8,
   "metadata": {},
   "outputs": [],
   "source": [
    "!touch model/models--Manmay--tortoise-tts/blobs/holder.txt"
   ]
  },
  {
   "cell_type": "markdown",
   "metadata": {},
   "source": [
    "cp the code into the models folder to use SageMaker uncompressed file model"
   ]
  },
  {
   "cell_type": "code",
   "execution_count": 9,
   "metadata": {},
   "outputs": [],
   "source": [
    "!cp -r code model/code"
   ]
  },
  {
   "cell_type": "markdown",
   "metadata": {},
   "source": [
    "## upload uncompressed file"
   ]
  },
  {
   "cell_type": "code",
   "execution_count": 10,
   "metadata": {
    "scrolled": true
   },
   "outputs": [
    {
     "name": "stdout",
     "output_type": "stream",
     "text": [
      "sagemaker.config INFO - Not applying SDK defaults from location: /etc/xdg/sagemaker/config.yaml\n",
      "sagemaker.config INFO - Not applying SDK defaults from location: /home/sagemaker-user/.config/sagemaker/config.yaml\n",
      "upload: model/.locks/models--Manmay--tortoise-tts/6097e708cf692eb93bd770880660953935e87e8995eb864819bbe51b7d91342c.lock to s3://sagemaker-us-east-1-372703588567/tortoise-tts/uncompressed_model/.locks/models--Manmay--tortoise-tts/6097e708cf692eb93bd770880660953935e87e8995eb864819bbe51b7d91342c.lock\n",
      "upload: model/.locks/models--Manmay--tortoise-tts/16e8153e9f8ffb00b116f7f67833df2802fcf81e6bc173acc3b3b4bf9f04189d.lock to s3://sagemaker-us-east-1-372703588567/tortoise-tts/uncompressed_model/.locks/models--Manmay--tortoise-tts/16e8153e9f8ffb00b116f7f67833df2802fcf81e6bc173acc3b3b4bf9f04189d.lock\n",
      "upload: model/.locks/models--Manmay--tortoise-tts/ea776fc354eabb70cfae145777153483fad72e3e0c5ea345505ded2231a90ce1.lock to s3://sagemaker-us-east-1-372703588567/tortoise-tts/uncompressed_model/.locks/models--Manmay--tortoise-tts/ea776fc354eabb70cfae145777153483fad72e3e0c5ea345505ded2231a90ce1.lock\n",
      "upload: model/.locks/models--Manmay--tortoise-tts/9c6651b9996df6cef6a1fc459738ae207ab60f902ec49b4d0623ca8ab6110d51.lock to s3://sagemaker-us-east-1-372703588567/tortoise-tts/uncompressed_model/.locks/models--Manmay--tortoise-tts/9c6651b9996df6cef6a1fc459738ae207ab60f902ec49b4d0623ca8ab6110d51.lock\n",
      "upload: model/code/requirements.txt to s3://sagemaker-us-east-1-372703588567/tortoise-tts/uncompressed_model/code/requirements.txt\n",
      "upload: model/code/inference.py to s3://sagemaker-us-east-1-372703588567/tortoise-tts/uncompressed_model/code/inference.py\n",
      "upload: model/code/samples/female_voice/female_voice02.wav to s3://sagemaker-us-east-1-372703588567/tortoise-tts/uncompressed_model/code/samples/female_voice/female_voice02.wav\n",
      "upload: model/code/samples/female_voice/female_voice03.wav to s3://sagemaker-us-east-1-372703588567/tortoise-tts/uncompressed_model/code/samples/female_voice/female_voice03.wav\n",
      "upload: model/code/samples/female_voice/female_voice01.wav to s3://sagemaker-us-east-1-372703588567/tortoise-tts/uncompressed_model/code/samples/female_voice/female_voice01.wav\n",
      "upload: model/code/samples/male_voice/male_voice03.wav to s3://sagemaker-us-east-1-372703588567/tortoise-tts/uncompressed_model/code/samples/male_voice/male_voice03.wav\n",
      "upload: model/code/samples/male_voice/male_voice01.wav to s3://sagemaker-us-east-1-372703588567/tortoise-tts/uncompressed_model/code/samples/male_voice/male_voice01.wav\n",
      "upload: model/code/samples/male_voice/male_voice04.wav to s3://sagemaker-us-east-1-372703588567/tortoise-tts/uncompressed_model/code/samples/male_voice/male_voice04.wav\n",
      "upload: model/code/samples/female_voice/female_voice04.wav to s3://sagemaker-us-east-1-372703588567/tortoise-tts/uncompressed_model/code/samples/female_voice/female_voice04.wav\n",
      "upload: model/code/samples/male_voice/male_voice02.wav to s3://sagemaker-us-east-1-372703588567/tortoise-tts/uncompressed_model/code/samples/male_voice/male_voice02.wav\n",
      "upload: model/code/samples/adam/adam-interview.wav to s3://sagemaker-us-east-1-372703588567/tortoise-tts/uncompressed_model/code/samples/adam/adam-interview.wav\n",
      "upload: model/code/samples/male_voice/male_voice.wav to s3://sagemaker-us-east-1-372703588567/tortoise-tts/uncompressed_model/code/samples/male_voice/male_voice.wav\n",
      "upload: model/models--Manmay--tortoise-tts/blobs/holder.txt to s3://sagemaker-us-east-1-372703588567/tortoise-tts/uncompressed_model/models--Manmay--tortoise-tts/blobs/holder.txt\n",
      "upload: model/models--Manmay--tortoise-tts/refs/main to s3://sagemaker-us-east-1-372703588567/tortoise-tts/uncompressed_model/models--Manmay--tortoise-tts/refs/main\n",
      "upload: model/code/samples/swami/swami-interview.wav to s3://sagemaker-us-east-1-372703588567/tortoise-tts/uncompressed_model/code/samples/swami/swami-interview.wav\n",
      "upload: model/code/samples/swami/swami-interview2.wav to s3://sagemaker-us-east-1-372703588567/tortoise-tts/uncompressed_model/code/samples/swami/swami-interview2.wav\n",
      "upload: model/code/samples/vladimire/vladimire.wav to s3://sagemaker-us-east-1-372703588567/tortoise-tts/uncompressed_model/code/samples/vladimire/vladimire.wav\n",
      "upload: model/models--Manmay--tortoise-tts/snapshots/50672670cecf2265aa61edb4eef5d1a293a8a373/autoregressive.pth to s3://sagemaker-us-east-1-372703588567/tortoise-tts/uncompressed_model/models--Manmay--tortoise-tts/snapshots/50672670cecf2265aa61edb4eef5d1a293a8a373/autoregressive.pth\n",
      "upload: model/models--Manmay--tortoise-tts/snapshots/50672670cecf2265aa61edb4eef5d1a293a8a373/clvp2.pth to s3://sagemaker-us-east-1-372703588567/tortoise-tts/uncompressed_model/models--Manmay--tortoise-tts/snapshots/50672670cecf2265aa61edb4eef5d1a293a8a373/clvp2.pth\n",
      "upload: model/models--Manmay--tortoise-tts/snapshots/50672670cecf2265aa61edb4eef5d1a293a8a373/diffusion_decoder.pth to s3://sagemaker-us-east-1-372703588567/tortoise-tts/uncompressed_model/models--Manmay--tortoise-tts/snapshots/50672670cecf2265aa61edb4eef5d1a293a8a373/diffusion_decoder.pth\n",
      "upload: model/models--Manmay--tortoise-tts/snapshots/50672670cecf2265aa61edb4eef5d1a293a8a373/vocoder.pth to s3://sagemaker-us-east-1-372703588567/tortoise-tts/uncompressed_model/models--Manmay--tortoise-tts/snapshots/50672670cecf2265aa61edb4eef5d1a293a8a373/vocoder.pth\n"
     ]
    }
   ],
   "source": [
    "import boto3\n",
    "import sagemaker\n",
    "\n",
    "sess = sagemaker.Session()\n",
    "bucket_name = sess.default_bucket() # Set a default S3 bucket\n",
    "\n",
    "prefix = \"tortoise-tts\"\n",
    "\n",
    "s3 = boto3.client('s3')\n",
    "\n",
    "model_uncompressed_s3 = f\"s3://{bucket_name}/{prefix}/uncompressed_model/\"\n",
    "!aws s3 sync model {model_uncompressed_s3}"
   ]
  },
  {
   "cell_type": "markdown",
   "metadata": {},
   "source": [
    "Store the parameters for other notebooks"
   ]
  },
  {
   "cell_type": "code",
   "execution_count": 11,
   "metadata": {},
   "outputs": [
    {
     "name": "stdout",
     "output_type": "stream",
     "text": [
      "Stored 'bucket_name' (str)\n",
      "Stored 'model_uncompressed_s3' (str)\n",
      "Stored 'prefix' (str)\n"
     ]
    }
   ],
   "source": [
    "%store bucket_name\n",
    "%store model_uncompressed_s3\n",
    "%store prefix"
   ]
  },
  {
   "cell_type": "code",
   "execution_count": null,
   "metadata": {},
   "outputs": [],
   "source": []
  }
 ],
 "metadata": {
  "kernelspec": {
   "display_name": "Python 3 (ipykernel)",
   "language": "python",
   "name": "python3"
  },
  "language_info": {
   "codemirror_mode": {
    "name": "ipython",
    "version": 3
   },
   "file_extension": ".py",
   "mimetype": "text/x-python",
   "name": "python",
   "nbconvert_exporter": "python",
   "pygments_lexer": "ipython3",
   "version": "3.10.14"
  }
 },
 "nbformat": 4,
 "nbformat_minor": 4
}
